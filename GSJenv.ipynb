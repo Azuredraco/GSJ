{
 "cells": [
  {
   "cell_type": "code",
   "execution_count": 1,
   "id": "4dfb5ece",
   "metadata": {},
   "outputs": [
    {
     "name": "stdout",
     "output_type": "stream",
     "text": [
      "Hello World!\n"
     ]
    }
   ],
   "source": [
    "print(\"Hello World!\")"
   ]
  },
  {
   "cell_type": "markdown",
   "id": "4f7a0170",
   "metadata": {},
   "source": [
    "# A simple 'Hello World!' notebook.\n",
    "\n",
    "Prints \"Hello World!\". Just that."
   ]
  }
 ],
 "metadata": {
  "kernelspec": {
   "display_name": "Python [conda env:manning] *",
   "language": "python",
   "name": "conda-env-manning-py"
  },
  "language_info": {
   "codemirror_mode": {
    "name": "ipython",
    "version": 3
   },
   "file_extension": ".py",
   "mimetype": "text/x-python",
   "name": "python",
   "nbconvert_exporter": "python",
   "pygments_lexer": "ipython3",
   "version": "3.10.5"
  }
 },
 "nbformat": 4,
 "nbformat_minor": 5
}
